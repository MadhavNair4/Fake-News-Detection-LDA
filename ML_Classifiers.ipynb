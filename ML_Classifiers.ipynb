{
  "nbformat": 4,
  "nbformat_minor": 0,
  "metadata": {
    "colab": {
      "provenance": []
    },
    "kernelspec": {
      "name": "python3",
      "display_name": "Python 3"
    },
    "language_info": {
      "name": "python"
    }
  },
  "cells": [
    {
      "cell_type": "code",
      "execution_count": null,
      "metadata": {
        "id": "a8oNb3Mdxpkw"
      },
      "outputs": [],
      "source": [
        "import numpy as np\n",
        "import pandas as pd\n",
        "import pickle\n",
        "from sklearn.model_selection import train_test_split\n",
        "from sklearn.feature_extraction.text import TfidfVectorizer\n",
        "from sklearn.metrics import accuracy_score, precision_score, recall_score, f1_score, roc_auc_score, confusion_matrix\n",
        "import matplotlib.pyplot as plt\n",
        "%matplotlib inline\n",
        "from sklearn.neighbors import KNeighborsClassifier\n",
        "from sklearn.tree import DecisionTreeClassifier\n",
        "from sklearn.svm import SVC\n",
        "from sklearn.ensemble import RandomForestClassifier"
      ]
    },
    {
      "cell_type": "code",
      "source": [
        "true = pd.read_csv('/content/drive/MyDrive/True.csv')\n",
        "fake = pd.read_csv('/content/drive/MyDrive/Fake.csv')"
      ],
      "metadata": {
        "id": "X4kCaeYTzfpp"
      },
      "execution_count": null,
      "outputs": []
    },
    {
      "cell_type": "code",
      "source": [
        "true['label'] = 1\n",
        "fake['label'] = 0"
      ],
      "metadata": {
        "id": "3eayT5DlRFyq"
      },
      "execution_count": null,
      "outputs": []
    },
    {
      "cell_type": "code",
      "source": [
        "frames = [true.loc[:5000][:], fake.loc[:5000][:]]\n",
        "df = pd.concat(frames)"
      ],
      "metadata": {
        "id": "QpJITsVkQcKU"
      },
      "execution_count": null,
      "outputs": []
    },
    {
      "cell_type": "code",
      "source": [
        "X = df.drop('label', axis=1)\n",
        "y = df['label']\n",
        "corpus = df['text'].values"
      ],
      "metadata": {
        "id": "5H2IYf5VQcYG"
      },
      "execution_count": null,
      "outputs": []
    },
    {
      "cell_type": "code",
      "source": [
        "with open('/content/drive/MyDrive/corpus.pkl', 'rb') as fp:\n",
        "  X = pickle.load(fp)"
      ],
      "metadata": {
        "id": "aWRfeFhr3mgt"
      },
      "execution_count": null,
      "outputs": []
    },
    {
      "cell_type": "code",
      "source": [
        "X_train, X_test, y_train, y_test = train_test_split(X, y, test_size = 0.3, random_state = 3)"
      ],
      "metadata": {
        "id": "NOllZmtw4Oxu"
      },
      "execution_count": null,
      "outputs": []
    },
    {
      "cell_type": "code",
      "source": [
        "tfidf_vectorizer=TfidfVectorizer(stop_words='english', max_df=0.7)\n",
        "ti_train=tfidf_vectorizer.fit_transform(X_train)\n",
        "ti_test=tfidf_vectorizer.transform(X_test)"
      ],
      "metadata": {
        "id": "wV4RB9yWGE0l"
      },
      "execution_count": null,
      "outputs": []
    },
    {
      "cell_type": "code",
      "source": [
        "knn = KNeighborsClassifier(n_neighbors=4)\n",
        "knn.fit(ti_train,y_train)\n",
        "y_pred = knn.predict(ti_test)\n",
        "acc = (accuracy_score(y_test, y_pred) * 100)\n",
        "prec = (precision_score(y_test, y_pred) * 100)\n",
        "rec = (recall_score(y_test, y_pred) * 100)\n",
        "f1 = (f1_score(y_test, y_pred) * 100)\n",
        "print(f'Accuracy: {round(acc,2)}%')\n",
        "print(f'Precision: {round(prec,2)}%')\n",
        "print(f'Recall: {round(rec,2)}%')\n",
        "print(f'F1-Score: {round(f1,2)}%')"
      ],
      "metadata": {
        "colab": {
          "base_uri": "https://localhost:8080/"
        },
        "id": "Mm-bkTxNHzy1",
        "outputId": "f18b04fd-3c19-4b8d-ec82-e41f638075ed"
      },
      "execution_count": null,
      "outputs": [
        {
          "output_type": "stream",
          "name": "stdout",
          "text": [
            "Accuracy: 85.5%\n",
            "Precision: 82.45%\n",
            "Recall: 90.47%\n",
            "F1-Score: 86.27%\n"
          ]
        }
      ]
    },
    {
      "cell_type": "code",
      "source": [],
      "metadata": {
        "id": "BtMmp0z9REY-"
      },
      "execution_count": null,
      "outputs": []
    }
  ]
}