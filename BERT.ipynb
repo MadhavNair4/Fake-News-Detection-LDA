{
  "nbformat": 4,
  "nbformat_minor": 0,
  "metadata": {
    "colab": {
      "provenance": []
    },
    "kernelspec": {
      "name": "python3",
      "display_name": "Python 3"
    },
    "language_info": {
      "name": "python"
    }
  },
  "cells": [
    {
      "cell_type": "code",
      "source": [
        "import pandas as pd"
      ],
      "metadata": {
        "id": "ZgKX7h5BEI6-"
      },
      "execution_count": null,
      "outputs": []
    },
    {
      "cell_type": "code",
      "execution_count": null,
      "metadata": {
        "id": "X4kCaeYTzfpp"
      },
      "outputs": [],
      "source": [
        "true = pd.read_csv('/content/drive/MyDrive/True.csv')\n",
        "fake = pd.read_csv('/content/drive/MyDrive/Fake.csv')"
      ]
    },
    {
      "cell_type": "code",
      "execution_count": null,
      "metadata": {
        "id": "3eayT5DlRFyq"
      },
      "outputs": [],
      "source": [
        "true['label'] = 1\n",
        "fake['label'] = 0"
      ]
    },
    {
      "cell_type": "code",
      "execution_count": null,
      "metadata": {
        "id": "QpJITsVkQcKU"
      },
      "outputs": [],
      "source": [
        "frames = [true.loc[:][:5000], fake.loc[:][:5000]]\n",
        "df = pd.concat(frames)"
      ]
    },
    {
      "cell_type": "code",
      "source": [
        "with open('/content/drive/MyDrive/Combined/Combined.txt', 'a') as f:\n",
        "    f.write(df.to_string(index=False))"
      ],
      "metadata": {
        "id": "z-mErsrsYq2U"
      },
      "execution_count": null,
      "outputs": []
    },
    {
      "cell_type": "code",
      "execution_count": null,
      "metadata": {
        "colab": {
          "base_uri": "https://localhost:8080/",
          "height": 459
        },
        "id": "5H2IYf5VQcYG",
        "outputId": "189b9da1-5375-4d05-97d7-0fbe27696dc5"
      },
      "outputs": [
        {
          "output_type": "execute_result",
          "data": {
            "text/plain": [
              "0       WASHINGTON (Reuters) - The head of a conservat...\n",
              "1       WASHINGTON (Reuters) - Transgender people will...\n",
              "2       WASHINGTON (Reuters) - The special counsel inv...\n",
              "3       WASHINGTON (Reuters) - Trump campaign adviser ...\n",
              "4       SEATTLE/WASHINGTON (Reuters) - President Donal...\n",
              "                              ...                        \n",
              "4995    It s no secret Republicans are salivating to f...\n",
              "4996    Republicans are about to lose a huge source of...\n",
              "4997    A pawn working for Donald Trump claimed that w...\n",
              "4998    Fox News is desperate to sabotage Hillary Clin...\n",
              "4999    As Donald Trump s campaign continues to sink d...\n",
              "Name: text, Length: 10000, dtype: object"
            ],
            "text/html": [
              "<div>\n",
              "<style scoped>\n",
              "    .dataframe tbody tr th:only-of-type {\n",
              "        vertical-align: middle;\n",
              "    }\n",
              "\n",
              "    .dataframe tbody tr th {\n",
              "        vertical-align: top;\n",
              "    }\n",
              "\n",
              "    .dataframe thead th {\n",
              "        text-align: right;\n",
              "    }\n",
              "</style>\n",
              "<table border=\"1\" class=\"dataframe\">\n",
              "  <thead>\n",
              "    <tr style=\"text-align: right;\">\n",
              "      <th></th>\n",
              "      <th>text</th>\n",
              "    </tr>\n",
              "  </thead>\n",
              "  <tbody>\n",
              "    <tr>\n",
              "      <th>0</th>\n",
              "      <td>WASHINGTON (Reuters) - The head of a conservat...</td>\n",
              "    </tr>\n",
              "    <tr>\n",
              "      <th>1</th>\n",
              "      <td>WASHINGTON (Reuters) - Transgender people will...</td>\n",
              "    </tr>\n",
              "    <tr>\n",
              "      <th>2</th>\n",
              "      <td>WASHINGTON (Reuters) - The special counsel inv...</td>\n",
              "    </tr>\n",
              "    <tr>\n",
              "      <th>3</th>\n",
              "      <td>WASHINGTON (Reuters) - Trump campaign adviser ...</td>\n",
              "    </tr>\n",
              "    <tr>\n",
              "      <th>4</th>\n",
              "      <td>SEATTLE/WASHINGTON (Reuters) - President Donal...</td>\n",
              "    </tr>\n",
              "    <tr>\n",
              "      <th>...</th>\n",
              "      <td>...</td>\n",
              "    </tr>\n",
              "    <tr>\n",
              "      <th>4995</th>\n",
              "      <td>It s no secret Republicans are salivating to f...</td>\n",
              "    </tr>\n",
              "    <tr>\n",
              "      <th>4996</th>\n",
              "      <td>Republicans are about to lose a huge source of...</td>\n",
              "    </tr>\n",
              "    <tr>\n",
              "      <th>4997</th>\n",
              "      <td>A pawn working for Donald Trump claimed that w...</td>\n",
              "    </tr>\n",
              "    <tr>\n",
              "      <th>4998</th>\n",
              "      <td>Fox News is desperate to sabotage Hillary Clin...</td>\n",
              "    </tr>\n",
              "    <tr>\n",
              "      <th>4999</th>\n",
              "      <td>As Donald Trump s campaign continues to sink d...</td>\n",
              "    </tr>\n",
              "  </tbody>\n",
              "</table>\n",
              "<p>10000 rows × 1 columns</p>\n",
              "</div><br><label><b>dtype:</b> object</label>"
            ]
          },
          "metadata": {},
          "execution_count": 16
        }
      ],
      "source": [
        "X = df['text']\n",
        "y = df['label']\n",
        "corpus = df['text'].values\n",
        "X"
      ]
    },
    {
      "cell_type": "code",
      "source": [
        "from sklearn.model_selection import train_test_split\n",
        "\n",
        "X_train, X_test, y_train, y_test = train_test_split(X, y, test_size=0.2)"
      ],
      "metadata": {
        "id": "ZNrjd5VYcl6G"
      },
      "execution_count": null,
      "outputs": []
    },
    {
      "cell_type": "code",
      "source": [
        "bert_preprocess = hub.KerasLayer(\"https://tfhub.dev/tensorflow/bert_en_uncased_preprocess/3\")\n",
        "bert_encoder = hub.KerasLayer(\"https://tfhub.dev/tensorflow/small_bert/bert_en_uncased_L-2_H-256_A-4/1\")"
      ],
      "metadata": {
        "id": "W6YGpgtFcwy9"
      },
      "execution_count": null,
      "outputs": []
    },
    {
      "cell_type": "code",
      "source": [
        "text_input = tf.keras.layers.Input(shape=(), dtype=tf.string, name='text')\n",
        "preprocessed_text = bert_preprocess(text_input)\n",
        "outputs = bert_encoder(preprocessed_text)"
      ],
      "metadata": {
        "id": "AInbMW_7czeW"
      },
      "execution_count": null,
      "outputs": []
    },
    {
      "cell_type": "code",
      "source": [
        "l = tf.keras.layers.Dropout(0.1, name=\"dropout\")(outputs['pooled_output'])\n",
        "l = tf.keras.layers.Dense(1, activation='sigmoid', name=\"output\")(l)"
      ],
      "metadata": {
        "id": "4Yx3ZfVwc4sd"
      },
      "execution_count": null,
      "outputs": []
    },
    {
      "cell_type": "code",
      "source": [
        "model = tf.keras.Model(inputs=[text_input], outputs = [l])"
      ],
      "metadata": {
        "id": "hb4Vh2TRc7oJ"
      },
      "execution_count": null,
      "outputs": []
    },
    {
      "cell_type": "code",
      "source": [
        "METRICS = [\n",
        "      tf.keras.metrics.BinaryAccuracy(name='accuracy'),\n",
        "      tf.keras.metrics.Precision(name='precision'),\n",
        "      tf.keras.metrics.Recall(name='recall')\n",
        "]\n",
        "\n",
        "model.compile(optimizer='adam',\n",
        "              loss='binary_crossentropy',\n",
        "              metrics=METRICS)"
      ],
      "metadata": {
        "id": "5Zx-mHeOc_Af"
      },
      "execution_count": null,
      "outputs": []
    },
    {
      "cell_type": "code",
      "source": [
        "model.fit(X_train, y_train, epochs=5)"
      ],
      "metadata": {
        "colab": {
          "base_uri": "https://localhost:8080/"
        },
        "id": "X5PuXhYBdGHW",
        "outputId": "88ab2252-fcb9-4de1-f185-b1421776de43"
      },
      "execution_count": null,
      "outputs": [
        {
          "output_type": "stream",
          "name": "stdout",
          "text": [
            "Epoch 1/5\n",
            "250/250 [==============================] - 120s 471ms/step - loss: 0.4507 - accuracy: 0.8429 - precision: 0.8306 - recall: 0.8607\n",
            "Epoch 2/5\n",
            "250/250 [==============================] - 120s 481ms/step - loss: 0.2407 - accuracy: 0.9369 - precision: 0.9302 - recall: 0.9444\n",
            "Epoch 3/5\n",
            "250/250 [==============================] - 118s 473ms/step - loss: 0.1800 - accuracy: 0.9515 - precision: 0.9434 - recall: 0.9604\n",
            "Epoch 4/5\n",
            "250/250 [==============================] - 119s 476ms/step - loss: 0.1515 - accuracy: 0.9546 - precision: 0.9492 - recall: 0.9604\n",
            "Epoch 5/5\n",
            "250/250 [==============================] - 117s 469ms/step - loss: 0.1343 - accuracy: 0.9576 - precision: 0.9502 - recall: 0.9657\n"
          ]
        },
        {
          "output_type": "execute_result",
          "data": {
            "text/plain": [
              "<keras.src.callbacks.History at 0x7e004b5ed390>"
            ]
          },
          "metadata": {},
          "execution_count": 53
        }
      ]
    },
    {
      "cell_type": "code",
      "source": [
        "model.evaluate(X_test, y_test)\n",
        "#Accuracy: 96.85%\n",
        "#Precision: 97.49%\n",
        "#Recall: 96.23%\n",
        "#F1 - SCORE: 96.86%"
      ],
      "metadata": {
        "colab": {
          "base_uri": "https://localhost:8080/"
        },
        "id": "q707sTHVdJHk",
        "outputId": "0276f264-f75c-458e-88c2-c11bf178865e"
      },
      "execution_count": null,
      "outputs": [
        {
          "output_type": "stream",
          "name": "stdout",
          "text": [
            "63/63 [==============================] - 30s 475ms/step - loss: 0.1108 - accuracy: 0.9685 - precision: 0.9749 - recall: 0.9623\n"
          ]
        },
        {
          "output_type": "execute_result",
          "data": {
            "text/plain": [
              "[0.11077118664979935,\n",
              " 0.968500018119812,\n",
              " 0.9748743772506714,\n",
              " 0.9623016119003296]"
            ]
          },
          "metadata": {},
          "execution_count": 54
        }
      ]
    },
    {
      "cell_type": "code",
      "source": [],
      "metadata": {
        "id": "Q4AXoZ0shFud"
      },
      "execution_count": null,
      "outputs": []
    }
  ]
}